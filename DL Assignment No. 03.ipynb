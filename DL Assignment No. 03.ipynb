{
 "cells": [
  {
   "cell_type": "markdown",
   "id": "c70dfc38",
   "metadata": {},
   "source": [
    "## DL Assignment No. 03\n",
    "3. Build the Image classification model by dividing the model into following 4 stages:\n",
    "\n",
    "a. Loading and preprocessing the image data\n",
    "\n",
    "b. Defining the model’s architecture\n",
    "\n",
    "c. Training the model\n",
    "\n",
    "d. Estimating the model’s performance"
   ]
  },
  {
   "cell_type": "code",
   "execution_count": 1,
   "id": "52e10e5b",
   "metadata": {},
   "outputs": [],
   "source": [
    "import tensorflow as tf\n",
    "from tensorflow import keras"
   ]
  },
  {
   "cell_type": "code",
   "execution_count": 2,
   "id": "f9f586da",
   "metadata": {},
   "outputs": [],
   "source": [
    "# a. Loading and preprocessing the image data\n",
    "mnist = tf.keras.datasets.mnist\n",
    "(x_train, y_train), (x_test, y_test) = mnist.load_data()\n",
    "\n",
    "# Feature Scaling\n",
    "x_train = x_train/255\n",
    "x_test = x_test/255"
   ]
  },
  {
   "cell_type": "code",
   "execution_count": 3,
   "id": "134f82de",
   "metadata": {},
   "outputs": [],
   "source": [
    "# b. Defining the model’s architecture\n",
    "model = tf.keras.Sequential([\n",
    "    keras.layers.Flatten(input_shape=(28, 28)),\n",
    "    keras.layers.Dense(128, activation='relu'),\n",
    "    keras.layers.Dense(10, activation='softmax')\n",
    "])"
   ]
  },
  {
   "cell_type": "code",
   "execution_count": 4,
   "id": "c40bf767",
   "metadata": {},
   "outputs": [
    {
     "name": "stdout",
     "output_type": "stream",
     "text": [
      "Epoch 1/10\n",
      "Epoch 2/10\n",
      "Epoch 3/10\n",
      "Epoch 4/10\n",
      "Epoch 5/10\n",
      "Epoch 6/10\n",
      "Epoch 7/10\n",
      "Epoch 8/10\n",
      "Epoch 9/10\n",
      "Epoch 10/10\n"
     ]
    }
   ],
   "source": [
    "# c. Training the model\n",
    "model.compile(optimizer='sgd', loss='sparse_categorical_crossentropy', \n",
    "              metrics=['accuracy'])\n",
    "history = model.fit(x_train, y_train, validation_data=(x_test, y_test), \n",
    "                    epochs=10, verbose=3)"
   ]
  },
  {
   "cell_type": "code",
   "execution_count": 5,
   "id": "baa68224",
   "metadata": {},
   "outputs": [
    {
     "name": "stdout",
     "output_type": "stream",
     "text": [
      "Loss = 0.16344955563545227\n",
      "Accuracy = 0.9534000158309937\n"
     ]
    }
   ],
   "source": [
    "# d. Estimating the model’s performance\n",
    "test_loss, test_acc=model.evaluate(x_test, y_test, verbose=0)\n",
    "print(\"Loss =\", test_loss)\n",
    "print(\"Accuracy =\", test_acc)"
   ]
  }
 ],
 "metadata": {
  "kernelspec": {
   "display_name": "Python 3",
   "language": "python",
   "name": "python3"
  },
  "language_info": {
   "codemirror_mode": {
    "name": "ipython",
    "version": 3
   },
   "file_extension": ".py",
   "mimetype": "text/x-python",
   "name": "python",
   "nbconvert_exporter": "python",
   "pygments_lexer": "ipython3",
   "version": "3.8.8"
  }
 },
 "nbformat": 4,
 "nbformat_minor": 5
}
